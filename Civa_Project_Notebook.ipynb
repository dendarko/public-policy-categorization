{
  "cells": [
    {
      "cell_type": "markdown",
      "metadata": {
        "id": "8rEMBrEGZ9I7"
      },
      "source": [
        "# **Step 1: Install Required Libraries**"
      ]
    },
    {
      "cell_type": "code",
      "execution_count": 1,
      "metadata": {
        "colab": {
          "base_uri": "https://localhost:8080/"
        },
        "id": "cTmvEL_vaAxa",
        "outputId": "2b962239-f142-44df-811f-9320c03bc6d5"
      },
      "outputs": [
        {
          "output_type": "stream",
          "name": "stdout",
          "text": [
            "Requirement already satisfied: Flask in /usr/local/lib/python3.10/dist-packages (2.2.5)\n",
            "Requirement already satisfied: joblib in /usr/local/lib/python3.10/dist-packages (1.4.2)\n",
            "Collecting PyMuPDF\n",
            "  Downloading PyMuPDF-1.24.7-cp310-none-manylinux2014_x86_64.whl (3.5 MB)\n",
            "\u001b[2K     \u001b[90m━━━━━━━━━━━━━━━━━━━━━━━━━━━━━━━━━━━━━━━━\u001b[0m \u001b[32m3.5/3.5 MB\u001b[0m \u001b[31m15.3 MB/s\u001b[0m eta \u001b[36m0:00:00\u001b[0m\n",
            "\u001b[?25hRequirement already satisfied: pandas in /usr/local/lib/python3.10/dist-packages (2.0.3)\n",
            "Requirement already satisfied: scikit-learn in /usr/local/lib/python3.10/dist-packages (1.2.2)\n",
            "Requirement already satisfied: imbalanced-learn in /usr/local/lib/python3.10/dist-packages (0.10.1)\n",
            "Requirement already satisfied: matplotlib in /usr/local/lib/python3.10/dist-packages (3.7.1)\n",
            "Requirement already satisfied: seaborn in /usr/local/lib/python3.10/dist-packages (0.13.1)\n",
            "Requirement already satisfied: nltk in /usr/local/lib/python3.10/dist-packages (3.8.1)\n",
            "Requirement already satisfied: Werkzeug>=2.2.2 in /usr/local/lib/python3.10/dist-packages (from Flask) (3.0.3)\n",
            "Requirement already satisfied: Jinja2>=3.0 in /usr/local/lib/python3.10/dist-packages (from Flask) (3.1.4)\n",
            "Requirement already satisfied: itsdangerous>=2.0 in /usr/local/lib/python3.10/dist-packages (from Flask) (2.2.0)\n",
            "Requirement already satisfied: click>=8.0 in /usr/local/lib/python3.10/dist-packages (from Flask) (8.1.7)\n",
            "Collecting PyMuPDFb==1.24.6 (from PyMuPDF)\n",
            "  Downloading PyMuPDFb-1.24.6-py3-none-manylinux2014_x86_64.manylinux_2_17_x86_64.whl (15.7 MB)\n",
            "\u001b[2K     \u001b[90m━━━━━━━━━━━━━━━━━━━━━━━━━━━━━━━━━━━━━━━━\u001b[0m \u001b[32m15.7/15.7 MB\u001b[0m \u001b[31m15.3 MB/s\u001b[0m eta \u001b[36m0:00:00\u001b[0m\n",
            "\u001b[?25hRequirement already satisfied: python-dateutil>=2.8.2 in /usr/local/lib/python3.10/dist-packages (from pandas) (2.8.2)\n",
            "Requirement already satisfied: pytz>=2020.1 in /usr/local/lib/python3.10/dist-packages (from pandas) (2023.4)\n",
            "Requirement already satisfied: tzdata>=2022.1 in /usr/local/lib/python3.10/dist-packages (from pandas) (2024.1)\n",
            "Requirement already satisfied: numpy>=1.21.0 in /usr/local/lib/python3.10/dist-packages (from pandas) (1.25.2)\n",
            "Requirement already satisfied: scipy>=1.3.2 in /usr/local/lib/python3.10/dist-packages (from scikit-learn) (1.11.4)\n",
            "Requirement already satisfied: threadpoolctl>=2.0.0 in /usr/local/lib/python3.10/dist-packages (from scikit-learn) (3.5.0)\n",
            "Requirement already satisfied: contourpy>=1.0.1 in /usr/local/lib/python3.10/dist-packages (from matplotlib) (1.2.1)\n",
            "Requirement already satisfied: cycler>=0.10 in /usr/local/lib/python3.10/dist-packages (from matplotlib) (0.12.1)\n",
            "Requirement already satisfied: fonttools>=4.22.0 in /usr/local/lib/python3.10/dist-packages (from matplotlib) (4.53.0)\n",
            "Requirement already satisfied: kiwisolver>=1.0.1 in /usr/local/lib/python3.10/dist-packages (from matplotlib) (1.4.5)\n",
            "Requirement already satisfied: packaging>=20.0 in /usr/local/lib/python3.10/dist-packages (from matplotlib) (24.1)\n",
            "Requirement already satisfied: pillow>=6.2.0 in /usr/local/lib/python3.10/dist-packages (from matplotlib) (9.4.0)\n",
            "Requirement already satisfied: pyparsing>=2.3.1 in /usr/local/lib/python3.10/dist-packages (from matplotlib) (3.1.2)\n",
            "Requirement already satisfied: regex>=2021.8.3 in /usr/local/lib/python3.10/dist-packages (from nltk) (2024.5.15)\n",
            "Requirement already satisfied: tqdm in /usr/local/lib/python3.10/dist-packages (from nltk) (4.66.4)\n",
            "Requirement already satisfied: MarkupSafe>=2.0 in /usr/local/lib/python3.10/dist-packages (from Jinja2>=3.0->Flask) (2.1.5)\n",
            "Requirement already satisfied: six>=1.5 in /usr/local/lib/python3.10/dist-packages (from python-dateutil>=2.8.2->pandas) (1.16.0)\n",
            "Installing collected packages: PyMuPDFb, PyMuPDF\n",
            "Successfully installed PyMuPDF-1.24.7 PyMuPDFb-1.24.6\n"
          ]
        }
      ],
      "source": [
        "!pip install Flask joblib PyMuPDF pandas scikit-learn imbalanced-learn matplotlib seaborn nltk"
      ]
    },
    {
      "cell_type": "markdown",
      "metadata": {
        "id": "yEnz8qssaVoa"
      },
      "source": [
        "# **Step 2: Load and Preprocess Data**"
      ]
    },
    {
      "cell_type": "code",
      "execution_count": 2,
      "metadata": {
        "colab": {
          "base_uri": "https://localhost:8080/"
        },
        "id": "Pr7B-4VOaa2j",
        "outputId": "3a2901e1-55e7-4a33-8026-0c43c13ae6a6"
      },
      "outputs": [
        {
          "output_type": "stream",
          "name": "stderr",
          "text": [
            "[nltk_data] Downloading package punkt to /root/nltk_data...\n",
            "[nltk_data]   Unzipping tokenizers/punkt.zip.\n",
            "[nltk_data] Downloading package stopwords to /root/nltk_data...\n",
            "[nltk_data]   Unzipping corpora/stopwords.zip.\n"
          ]
        }
      ],
      "source": [
        "import pandas as pd\n",
        "import requests\n",
        "import fitz  # PyMuPDF\n",
        "from io import BytesIO\n",
        "import re\n",
        "import nltk\n",
        "from nltk.corpus import stopwords\n",
        "from nltk.tokenize import word_tokenize\n",
        "from nltk.stem import PorterStemmer\n",
        "from collections import defaultdict\n",
        "import os\n",
        "\n",
        "# Ensure you have the necessary nltk downloads\n",
        "nltk.download('punkt')\n",
        "nltk.download('stopwords')\n",
        "\n",
        "# Load the dataset\n",
        "file_path = '/content/drive/MyDrive/Orders and Bills.xlsx'  # Adjust the path as necessary\n",
        "data = pd.read_excel(file_path, sheet_name=None)\n",
        "orders_df = data['Orders']\n",
        "personnel_df = data['Personnel']\n",
        "\n",
        "# Handling missing values\n",
        "orders_df['Passage Date'].fillna('Missing Date', inplace=True)\n",
        "orders_df['Category Types'].fillna('Missing Category', inplace=True)\n",
        "personnel_df['State'].fillna('Missing State', inplace=True)\n",
        "for col in ['Infastructure', 'Education', 'Zoning', 'Safety']:\n",
        "    personnel_df[col].fillna(personnel_df[col].median(), inplace=True)"
      ]
    },
    {
      "cell_type": "markdown",
      "metadata": {
        "id": "Fq8E1rEpaliq"
      },
      "source": [
        "### **Explanation:**\n",
        "\n",
        "    Load the dataset and handle any missing values.\n",
        "    Ensure necessary NLTK resources are downloaded for text processing."
      ]
    },
    {
      "cell_type": "markdown",
      "metadata": {
        "id": "0EoCkcLjbJpG"
      },
      "source": [
        "# **Step 3: Extract Text from PDF Links**"
      ]
    },
    {
      "cell_type": "code",
      "execution_count": 3,
      "metadata": {
        "id": "GfIp0NjSbTAx"
      },
      "outputs": [],
      "source": [
        "# Directory to save PDFs\n",
        "pdf_dir = 'pdfs'\n",
        "os.makedirs(pdf_dir, exist_ok=True)\n",
        "\n",
        "# Function to download and save PDFs\n",
        "def download_pdf(url, save_path):\n",
        "    try:\n",
        "        response = requests.get(url)\n",
        "        if response.status_code == 200:\n",
        "            with open(save_path, 'wb') as f:\n",
        "                f.write(response.content)\n",
        "            return True\n",
        "        else:\n",
        "            return False\n",
        "    except Exception as e:\n",
        "        return False\n",
        "\n",
        "# Use 'Classification Number ' as the column name\n",
        "orders_df['PDF_Path'] = orders_df.apply(lambda row: f\"{pdf_dir}/{row['Classification Number '].replace(' ', '_')}.pdf\", axis=1)\n",
        "orders_df['Downloaded'] = orders_df.apply(lambda row: download_pdf(row['Link'], row['PDF_Path']), axis=1)\n",
        "\n",
        "# Filter out rows where PDF download failed\n",
        "orders_df = orders_df[orders_df['Downloaded']]"
      ]
    },
    {
      "cell_type": "markdown",
      "metadata": {
        "id": "RRu1Ub84drMb"
      },
      "source": [
        "### **Explanation:**\n",
        "\n",
        "    Extract text from the PDF documents available through URLs in the dataset."
      ]
    },
    {
      "cell_type": "markdown",
      "metadata": {
        "id": "NxGxoEr1dw34"
      },
      "source": [
        "# **Step 4: Preprocess Text Data**"
      ]
    },
    {
      "cell_type": "code",
      "execution_count": 4,
      "metadata": {
        "colab": {
          "base_uri": "https://localhost:8080/"
        },
        "id": "vc7g3PUceodE",
        "outputId": "8c77407b-d6bf-438b-c208-63ceb5f293cc"
      },
      "outputs": [
        {
          "output_type": "stream",
          "name": "stderr",
          "text": [
            "<ipython-input-4-e36cb986487a>:10: SettingWithCopyWarning: \n",
            "A value is trying to be set on a copy of a slice from a DataFrame.\n",
            "Try using .loc[row_indexer,col_indexer] = value instead\n",
            "\n",
            "See the caveats in the documentation: https://pandas.pydata.org/pandas-docs/stable/user_guide/indexing.html#returning-a-view-versus-a-copy\n",
            "  orders_df['Processed_Text'] = orders_df['PDF_Path'].apply(lambda path: preprocess_text(open(path, 'rb').read().decode('utf-8', errors='ignore')))\n"
          ]
        }
      ],
      "source": [
        "# Preprocess text for keyword matching\n",
        "stemmer = PorterStemmer()\n",
        "\n",
        "def preprocess_text(text):\n",
        "    text = re.sub(r'\\W', ' ', text)\n",
        "    tokens = word_tokenize(text.lower())\n",
        "    tokens = [stemmer.stem(word) for word in tokens if word.isalnum()]\n",
        "    return ' '.join(tokens)\n",
        "\n",
        "orders_df['Processed_Text'] = orders_df['PDF_Path'].apply(lambda path: preprocess_text(open(path, 'rb').read().decode('utf-8', errors='ignore')))"
      ]
    },
    {
      "cell_type": "markdown",
      "metadata": {
        "id": "fyLTD1G-e3Rp"
      },
      "source": [
        "### **Explanation:**\n",
        "\n",
        "    Extract text from the PDF documents available through URLs in the dataset."
      ]
    },
    {
      "cell_type": "markdown",
      "metadata": {
        "id": "Id27OaWnff_2"
      },
      "source": [
        "# **Step 5: Categorize Policies Using Keywords**"
      ]
    },
    {
      "cell_type": "code",
      "execution_count": 5,
      "metadata": {
        "colab": {
          "base_uri": "https://localhost:8080/"
        },
        "id": "pf-rzTSyfkLm",
        "outputId": "bed78536-e9f8-4acb-c931-1f5650bbf009"
      },
      "outputs": [
        {
          "output_type": "stream",
          "name": "stdout",
          "text": [
            "Categorized Policies:\n",
            "   Category Types Dominant_Category Minor_Categories\n",
            "0  Infrastructure             Other               []\n",
            "1  Infrastructure            Safety               []\n",
            "2          Safety             Other               []\n",
            "3          Zoning             Other               []\n",
            "4          Safety             Other               []\n"
          ]
        },
        {
          "output_type": "stream",
          "name": "stderr",
          "text": [
            "<ipython-input-5-2b2cd3b44998>:24: SettingWithCopyWarning: \n",
            "A value is trying to be set on a copy of a slice from a DataFrame.\n",
            "Try using .loc[row_indexer,col_indexer] = value instead\n",
            "\n",
            "See the caveats in the documentation: https://pandas.pydata.org/pandas-docs/stable/user_guide/indexing.html#returning-a-view-versus-a-copy\n",
            "  orders_df['Dominant_Category'], orders_df['Minor_Categories'] = zip(*orders_df['Processed_Text'].apply(lambda x: categorize_policy(x.split())))\n",
            "<ipython-input-5-2b2cd3b44998>:24: SettingWithCopyWarning: \n",
            "A value is trying to be set on a copy of a slice from a DataFrame.\n",
            "Try using .loc[row_indexer,col_indexer] = value instead\n",
            "\n",
            "See the caveats in the documentation: https://pandas.pydata.org/pandas-docs/stable/user_guide/indexing.html#returning-a-view-versus-a-copy\n",
            "  orders_df['Dominant_Category'], orders_df['Minor_Categories'] = zip(*orders_df['Processed_Text'].apply(lambda x: categorize_policy(x.split())))\n"
          ]
        }
      ],
      "source": [
        "# Define the keywords for each category (expanded for better coverage)\n",
        "category_keywords = {\n",
        "    'Housing': ['housing', 'urban planning', 'housing standards', 'supply', 'availability', 'home', 'residence', 'rental', 'mortgage', 'shelter', 'accommodation', 'dwelling', 'real estate'],\n",
        "    'Environment': ['environmental', 'natural environment', 'govern', 'sustainable', 'ecology', 'green', 'pollution', 'conservation', 'biodiversity', 'climate', 'ecosystem', 'recycling', 'carbon'],\n",
        "    'Education': ['education', 'academic', 'schools', 'curriculum', 'students', 'teaching', 'learning', 'university', 'college', 'degree', 'diploma', 'scholarship', 'tutor', 'classroom'],\n",
        "    'Safety': ['safety', 'public safety', 'criminal behavior', 'regulations', 'laws', 'crime', 'protection', 'security', 'law enforcement', 'policing', 'emergency', 'accident', 'incident'],\n",
        "    'Health Care': ['healthcare', 'health', 'medical', 'care', 'access', 'hospital', 'clinic', 'doctor', 'nurse', 'treatment', 'wellness', 'pharmacy', 'medicine', 'surgery', 'diagnosis'],\n",
        "    'Immigration': ['immigration', 'migrant', 'asylum', 'visa', 'entry', 'refugee', 'emigrant', 'citizenship', 'naturalization', 'border', 'immigrant', 'migration', 'passport', 'permit'],\n",
        "    'Infrastructure': ['infrastructure', 'construction', 'maintenance', 'upgrade', 'structures', 'roads', 'bridges', 'transport', 'utilities', 'facilities', 'public works', 'development', 'urban'],\n",
        "    'Other': []\n",
        "}\n",
        "\n",
        "def categorize_policy(tokens):\n",
        "    category_scores = defaultdict(int)\n",
        "    for category, keywords in category_keywords.items():\n",
        "        for keyword in keywords:\n",
        "            stemmed_keyword = PorterStemmer().stem(keyword)\n",
        "            category_scores[category] += tokens.count(stemmed_keyword)\n",
        "    sorted_categories = sorted(category_scores.items(), key=lambda item: item[1], reverse=True)\n",
        "    dominant_category = sorted_categories[0][0] if sorted_categories[0][1] > 0 else 'Other'\n",
        "    minor_categories = [category for category, score in sorted_categories[1:] if score > 0]\n",
        "    return dominant_category, minor_categories\n",
        "\n",
        "orders_df['Dominant_Category'], orders_df['Minor_Categories'] = zip(*orders_df['Processed_Text'].apply(lambda x: categorize_policy(x.split())))\n",
        "\n",
        "# Display the categorized policies\n",
        "print(\"Categorized Policies:\")\n",
        "print(orders_df[['Category Types', 'Dominant_Category', 'Minor_Categories']].head())"
      ]
    },
    {
      "cell_type": "markdown",
      "metadata": {
        "id": "Ad-ujdWvf9_J"
      },
      "source": [
        "### **Explanation:**\n",
        "\n",
        "    Categorize policies based on predefined keywords associated with each category."
      ]
    },
    {
      "cell_type": "markdown",
      "metadata": {
        "id": "eDJTaqQygXPB"
      },
      "source": [
        "# **Step 6: Feature Engineering and Vectorization**"
      ]
    },
    {
      "cell_type": "code",
      "execution_count": 6,
      "metadata": {
        "colab": {
          "base_uri": "https://localhost:8080/"
        },
        "id": "hLUMJUxbgivc",
        "outputId": "837e0071-30dd-4338-9e4b-88ac00102e57"
      },
      "outputs": [
        {
          "output_type": "stream",
          "name": "stderr",
          "text": [
            "<ipython-input-6-aadd2497829d>:17: SettingWithCopyWarning: \n",
            "A value is trying to be set on a copy of a slice from a DataFrame\n",
            "\n",
            "See the caveats in the documentation: https://pandas.pydata.org/pandas-docs/stable/user_guide/indexing.html#returning-a-view-versus-a-copy\n",
            "  features.fillna('Unknown', inplace=True)\n"
          ]
        }
      ],
      "source": [
        "# Merge Orders and Personnel data\n",
        "merged_df = pd.merge(orders_df, personnel_df, on='State', how='inner')\n",
        "\n",
        "# Ensure the city column is correctly referenced\n",
        "if 'City_x' in merged_df.columns:\n",
        "    city_column = 'City_x'\n",
        "elif 'City_y' in merged_df.columns:\n",
        "    city_column = 'City_y'\n",
        "else:\n",
        "    city_column = 'City'\n",
        "\n",
        "# Create features\n",
        "features = merged_df[['Processed_Text', 'Interest', city_column, 'State']]\n",
        "features.columns = ['Processed_Text', 'Interest', 'City', 'State']\n",
        "\n",
        "# Handle missing values if any\n",
        "features.fillna('Unknown', inplace=True)\n",
        "\n",
        "from sklearn.preprocessing import OneHotEncoder\n",
        "from sklearn.feature_extraction.text import TfidfVectorizer\n",
        "from scipy.sparse import hstack\n",
        "\n",
        "# Encode categorical data\n",
        "enc = OneHotEncoder()\n",
        "X_cat = enc.fit_transform(features[['Interest', 'City', 'State']])\n",
        "\n",
        "# Vectorize text data\n",
        "tfidf = TfidfVectorizer(max_features=1000)\n",
        "X_text = tfidf.fit_transform(features['Processed_Text'])\n",
        "\n",
        "# Combine text and categorical features\n",
        "X_combined = hstack([X_text, X_cat])\n",
        "\n",
        "# Define the target variable\n",
        "y = merged_df['Dominant_Category']"
      ]
    },
    {
      "cell_type": "markdown",
      "metadata": {
        "id": "JfKdzjdRgu1_"
      },
      "source": [
        "### **Explanation:**\n",
        "\n",
        "    Combine text data with user demographic data.\n",
        "    Encode categorical data and vectorize text data using TF-IDF."
      ]
    },
    {
      "cell_type": "markdown",
      "metadata": {
        "id": "KZojBVx1g2En"
      },
      "source": [
        "# **Step 7: Handle Class Imbalances and Split Data**"
      ]
    },
    {
      "cell_type": "code",
      "execution_count": 7,
      "metadata": {
        "id": "a4fOod3cg7aJ"
      },
      "outputs": [],
      "source": [
        "from imblearn.over_sampling import SMOTE\n",
        "from sklearn.model_selection import train_test_split\n",
        "\n",
        "# Handle class imbalances using SMOTE\n",
        "smote = SMOTE(k_neighbors=1, random_state=42)\n",
        "X_resampled, y_resampled = smote.fit_resample(X_combined, y)\n",
        "\n",
        "# Split the resampled data into training and testing sets\n",
        "X_train, X_test, y_train, y_test = train_test_split(X_resampled, y_resampled, test_size=0.2, random_state=42)"
      ]
    },
    {
      "cell_type": "markdown",
      "metadata": {
        "id": "7dMohY2KhDX0"
      },
      "source": [
        "### **Explanation:**\n",
        "\n",
        "    Use SMOTE to handle class imbalances by oversampling minority classes.\n",
        "    Split the resampled data into training and testing sets."
      ]
    },
    {
      "cell_type": "markdown",
      "metadata": {
        "id": "wl5DwuaIhNpA"
      },
      "source": [
        "# **Step 8: Train the Model and Save It**"
      ]
    },
    {
      "cell_type": "code",
      "execution_count": 8,
      "metadata": {
        "colab": {
          "base_uri": "https://localhost:8080/"
        },
        "id": "4Rulo028hSnB",
        "outputId": "d56d28bc-1df8-40b3-bef8-a79f088f711b"
      },
      "outputs": [
        {
          "output_type": "execute_result",
          "data": {
            "text/plain": [
              "['onehot_encoder.pkl']"
            ]
          },
          "metadata": {},
          "execution_count": 8
        }
      ],
      "source": [
        "from sklearn.ensemble import GradientBoostingClassifier\n",
        "import joblib\n",
        "\n",
        "# Train the model\n",
        "model = GradientBoostingClassifier()\n",
        "model.fit(X_train, y_train)\n",
        "\n",
        "# Save the model and encoders\n",
        "joblib.dump(model, 'best_policy_model.pkl')\n",
        "joblib.dump(tfidf, 'tfidf_vectorizer.pkl')\n",
        "joblib.dump(enc, 'onehot_encoder.pkl')"
      ]
    },
    {
      "cell_type": "markdown",
      "metadata": {
        "id": "A5FJRw1Bhi68"
      },
      "source": [
        "### **Explanation:**\n",
        "\n",
        "    Train a Gradient Boosting model and save the trained model and encoders for later use."
      ]
    },
    {
      "cell_type": "markdown",
      "metadata": {
        "id": "FdWOrb7ThmCV"
      },
      "source": [
        "# **Step 9: Evaluate the Model**"
      ]
    },
    {
      "cell_type": "code",
      "execution_count": 9,
      "metadata": {
        "colab": {
          "base_uri": "https://localhost:8080/",
          "height": 953
        },
        "id": "5Cr_c1UAhqHh",
        "outputId": "10ec32e8-864f-4506-82fa-6d2c0cc4a4be"
      },
      "outputs": [
        {
          "output_type": "stream",
          "name": "stdout",
          "text": [
            "Model Accuracy: 0.9981684981684982\n",
            "Classification Report:\n",
            "                precision    recall  f1-score   support\n",
            "\n",
            "     Education       0.99      1.00      0.99       134\n",
            "   Environment       1.00      1.00      1.00       130\n",
            "   Health Care       1.00      1.00      1.00       142\n",
            "       Housing       1.00      1.00      1.00       122\n",
            "   Immigration       1.00      1.00      1.00       122\n",
            "Infrastructure       1.00      1.00      1.00       149\n",
            "         Other       1.00      0.99      0.99       155\n",
            "        Safety       1.00      1.00      1.00       138\n",
            "\n",
            "      accuracy                           1.00      1092\n",
            "     macro avg       1.00      1.00      1.00      1092\n",
            "  weighted avg       1.00      1.00      1.00      1092\n",
            "\n"
          ]
        },
        {
          "output_type": "display_data",
          "data": {
            "text/plain": [
              "<Figure size 1000x700 with 2 Axes>"
            ],
            "image/png": "[encoded data removed]"
          },
          "metadata": {}
        }
      ],
      "source": [
        "from sklearn.metrics import accuracy_score, classification_report, confusion_matrix\n",
        "import matplotlib.pyplot as plt\n",
        "import seaborn as sns\n",
        "\n",
        "# Evaluate the model\n",
        "y_pred = model.predict(X_test)\n",
        "accuracy = accuracy_score(y_test, y_pred)\n",
        "report = classification_report(y_test, y_pred)\n",
        "\n",
        "print(f\"Model Accuracy: {accuracy}\")\n",
        "print(\"Classification Report:\")\n",
        "print(report)\n",
        "\n",
        "# Confusion matrix\n",
        "conf_matrix = confusion_matrix(y_test, y_pred)\n",
        "plt.figure(figsize=(10, 7))\n",
        "sns.heatmap(conf_matrix, annot=True, fmt='d', cmap='Blues')\n",
        "plt.title('Confusion Matrix')\n",
        "plt.xlabel('Predicted')\n",
        "plt.ylabel('Actual')\n",
        "plt.savefig('confusion_matrix.png')\n",
        "plt.show()"
      ]
    },
    {
      "cell_type": "markdown",
      "metadata": {
        "id": "MwvmhGPXhtxG"
      },
      "source": [
        "### **Explanation:**\n",
        "\n",
        "    Evaluate the model using accuracy, precision, recall, and F1 score.\n",
        "    Visualize the performance of the model using confusion matrix"
      ]
    },
    {
      "cell_type": "markdown",
      "metadata": {
        "id": "RnPvHuisiDuY"
      },
      "source": [
        "# **Step 10: Develop the API**"
      ]
    },
    {
      "cell_type": "code",
      "execution_count": null,
      "metadata": {
        "colab": {
          "base_uri": "https://localhost:8080/"
        },
        "id": "19dOOHNniGEA",
        "outputId": "72e27281-2363-4e8d-8984-a455b9cfaa64"
      },
      "outputs": [
        {
          "output_type": "stream",
          "name": "stdout",
          "text": [
            "Requirement already satisfied: flask-ngrok in /usr/local/lib/python3.10/dist-packages (0.0.25)\n",
            "Requirement already satisfied: flask in /usr/local/lib/python3.10/dist-packages (2.2.5)\n",
            "Requirement already satisfied: joblib in /usr/local/lib/python3.10/dist-packages (1.4.2)\n",
            "Requirement already satisfied: pandas in /usr/local/lib/python3.10/dist-packages (2.0.3)\n",
            "Requirement already satisfied: requests in /usr/local/lib/python3.10/dist-packages (from flask-ngrok) (2.31.0)\n",
            "Requirement already satisfied: Werkzeug>=2.2.2 in /usr/local/lib/python3.10/dist-packages (from flask) (3.0.3)\n",
            "Requirement already satisfied: Jinja2>=3.0 in /usr/local/lib/python3.10/dist-packages (from flask) (3.1.4)\n",
            "Requirement already satisfied: itsdangerous>=2.0 in /usr/local/lib/python3.10/dist-packages (from flask) (2.2.0)\n",
            "Requirement already satisfied: click>=8.0 in /usr/local/lib/python3.10/dist-packages (from flask) (8.1.7)\n",
            "Requirement already satisfied: python-dateutil>=2.8.2 in /usr/local/lib/python3.10/dist-packages (from pandas) (2.8.2)\n",
            "Requirement already satisfied: pytz>=2020.1 in /usr/local/lib/python3.10/dist-packages (from pandas) (2023.4)\n",
            "Requirement already satisfied: tzdata>=2022.1 in /usr/local/lib/python3.10/dist-packages (from pandas) (2024.1)\n",
            "Requirement already satisfied: numpy>=1.21.0 in /usr/local/lib/python3.10/dist-packages (from pandas) (1.25.2)\n",
            "Requirement already satisfied: MarkupSafe>=2.0 in /usr/local/lib/python3.10/dist-packages (from Jinja2>=3.0->flask) (2.1.5)\n",
            "Requirement already satisfied: six>=1.5 in /usr/local/lib/python3.10/dist-packages (from python-dateutil>=2.8.2->pandas) (1.16.0)\n",
            "Requirement already satisfied: charset-normalizer<4,>=2 in /usr/local/lib/python3.10/dist-packages (from requests->flask-ngrok) (3.3.2)\n",
            "Requirement already satisfied: idna<4,>=2.5 in /usr/local/lib/python3.10/dist-packages (from requests->flask-ngrok) (3.7)\n",
            "Requirement already satisfied: urllib3<3,>=1.21.1 in /usr/local/lib/python3.10/dist-packages (from requests->flask-ngrok) (2.0.7)\n",
            "Requirement already satisfied: certifi>=2017.4.17 in /usr/local/lib/python3.10/dist-packages (from requests->flask-ngrok) (2024.6.2)\n"
          ]
        }
      ],
      "source": [
        "!pip install flask-ngrok flask joblib pandas"
      ]
    },
    {
      "cell_type": "code",
      "source": [
        "from flask import Flask, request, jsonify, send_from_directory\n",
        "from flask_ngrok import run_with_ngrok\n",
        "import joblib\n",
        "import pandas as pd\n",
        "from scipy.sparse import hstack\n",
        "import os\n",
        "\n",
        "# Initialize Flask app\n",
        "app = Flask(__name__)\n",
        "run_with_ngrok(app)  # Start ngrok when app is run\n",
        "\n",
        "# Load the model and encoders\n",
        "model = joblib.load('best_policy_model.pkl')\n",
        "tfidf = joblib.load('tfidf_vectorizer.pkl')\n",
        "enc = joblib.load('onehot_encoder.pkl')\n",
        "\n",
        "# Load orders_df to retrieve PDF paths\n",
        "file_path = '/content/drive/MyDrive/Orders and Bills.xlsx'  # Adjust the path as necessary\n",
        "data = pd.read_excel(file_path, sheet_name='Orders')\n",
        "orders_df = data\n",
        "\n",
        "@app.route('/predict', methods=['POST'])\n",
        "def predict():\n",
        "    data = request.get_json(force=True)\n",
        "    interest = data['interest']\n",
        "    city = data['city']\n",
        "    state = data['state']\n",
        "\n",
        "    # Combine user inputs into a single DataFrame\n",
        "    user_input_df = pd.DataFrame([[interest, city, state]], columns=['Interest', 'City', 'State'])\n",
        "\n",
        "    # Encode categorical data\n",
        "    X_user_cat = enc.transform(user_input_df)\n",
        "\n",
        "    # Vectorize a placeholder text to match the dimension\n",
        "    placeholder_text = ' '.join(['placeholder'] * 1000)\n",
        "    X_user_text_placeholder = tfidf.transform([placeholder_text])\n",
        "\n",
        "    # Combine text and categorical features\n",
        "    X_user_combined = hstack([X_user_text_placeholder, X_user_cat])\n",
        "\n",
        "    # Make predictions\n",
        "    predictions = model.predict(X_user_combined)\n",
        "\n",
        "    # Find the best matching policy\n",
        "    best_policy_category = predictions[0]\n",
        "    best_policy_documents = orders_df[orders_df['Dominant_Category'] == best_policy_category]['PDF_Path'].tolist()\n",
        "\n",
        "    return jsonify({'best_policy_category': best_policy_category, 'documents': best_policy_documents})\n",
        "\n",
        "@app.route('/download/<path:filename>', methods=['GET'])\n",
        "def download(filename):\n",
        "    directory = os.path.dirname(filename)  # Extract the directory path\n",
        "    return send_from_directory(directory, os.path.basename(filename), as_attachment=True)\n",
        "\n",
        "if __name__ == '__main__':\n",
        "    app.run()\n"
      ],
      "metadata": {
        "colab": {
          "base_uri": "https://localhost:8080/"
        },
        "id": "35YCPiIQa5ov",
        "outputId": "efb1318e-39f4-4700-927a-ef7b02e720db"
      },
      "execution_count": null,
      "outputs": [
        {
          "metadata": {
            "tags": null
          },
          "name": "stdout",
          "output_type": "stream",
          "text": [
            " * Serving Flask app '__main__'\n",
            " * Debug mode: off\n"
          ]
        },
        {
          "metadata": {
            "tags": null
          },
          "name": "stderr",
          "output_type": "stream",
          "text": [
            "INFO:werkzeug:\u001b[31m\u001b[1mWARNING: This is a development server. Do not use it in a production deployment. Use a production WSGI server instead.\u001b[0m\n",
            " * Running on http://127.0.0.1:5000\n",
            "INFO:werkzeug:\u001b[33mPress CTRL+C to quit\u001b[0m\n",
            "Exception in thread Thread-10:\n",
            "Traceback (most recent call last):\n",
            "  File \"/usr/local/lib/python3.10/dist-packages/urllib3/connection.py\", line 203, in _new_conn\n",
            "    sock = connection.create_connection(\n",
            "  File \"/usr/local/lib/python3.10/dist-packages/urllib3/util/connection.py\", line 85, in create_connection\n",
            "    raise err\n",
            "  File \"/usr/local/lib/python3.10/dist-packages/urllib3/util/connection.py\", line 73, in create_connection\n",
            "    sock.connect(sa)\n",
            "ConnectionRefusedError: [Errno 111] Connection refused\n",
            "\n",
            "The above exception was the direct cause of the following exception:\n",
            "\n",
            "Traceback (most recent call last):\n",
            "  File \"/usr/local/lib/python3.10/dist-packages/urllib3/connectionpool.py\", line 791, in urlopen\n",
            "    response = self._make_request(\n",
            "  File \"/usr/local/lib/python3.10/dist-packages/urllib3/connectionpool.py\", line 497, in _make_request\n",
            "    conn.request(\n",
            "  File \"/usr/local/lib/python3.10/dist-packages/urllib3/connection.py\", line 395, in request\n",
            "    self.endheaders()\n",
            "  File \"/usr/lib/python3.10/http/client.py\", line 1278, in endheaders\n",
            "    self._send_output(message_body, encode_chunked=encode_chunked)\n",
            "  File \"/usr/lib/python3.10/http/client.py\", line 1038, in _send_output\n",
            "    self.send(msg)\n",
            "  File \"/usr/lib/python3.10/http/client.py\", line 976, in send\n",
            "    self.connect()\n",
            "  File \"/usr/local/lib/python3.10/dist-packages/urllib3/connection.py\", line 243, in connect\n",
            "    self.sock = self._new_conn()\n",
            "  File \"/usr/local/lib/python3.10/dist-packages/urllib3/connection.py\", line 218, in _new_conn\n",
            "    raise NewConnectionError(\n",
            "urllib3.exceptions.NewConnectionError: <urllib3.connection.HTTPConnection object at 0x780d07716950>: Failed to establish a new connection: [Errno 111] Connection refused\n",
            "\n",
            "The above exception was the direct cause of the following exception:\n",
            "\n",
            "Traceback (most recent call last):\n",
            "  File \"/usr/local/lib/python3.10/dist-packages/requests/adapters.py\", line 486, in send\n",
            "    resp = conn.urlopen(\n",
            "  File \"/usr/local/lib/python3.10/dist-packages/urllib3/connectionpool.py\", line 845, in urlopen\n",
            "    retries = retries.increment(\n",
            "  File \"/usr/local/lib/python3.10/dist-packages/urllib3/util/retry.py\", line 515, in increment\n",
            "    raise MaxRetryError(_pool, url, reason) from reason  # type: ignore[arg-type]\n",
            "urllib3.exceptions.MaxRetryError: HTTPConnectionPool(host='localhost', port=4040): Max retries exceeded with url: /api/tunnels (Caused by NewConnectionError('<urllib3.connection.HTTPConnection object at 0x780d07716950>: Failed to establish a new connection: [Errno 111] Connection refused'))\n",
            "\n",
            "During handling of the above exception, another exception occurred:\n",
            "\n",
            "Traceback (most recent call last):\n",
            "  File \"/usr/lib/python3.10/threading.py\", line 1016, in _bootstrap_inner\n",
            "    self.run()\n",
            "  File \"/usr/lib/python3.10/threading.py\", line 1378, in run\n",
            "    self.function(*self.args, **self.kwargs)\n",
            "  File \"/usr/local/lib/python3.10/dist-packages/flask_ngrok.py\", line 70, in start_ngrok\n",
            "    ngrok_address = _run_ngrok()\n",
            "  File \"/usr/local/lib/python3.10/dist-packages/flask_ngrok.py\", line 35, in _run_ngrok\n",
            "    tunnel_url = requests.get(localhost_url).text  # Get the tunnel information\n",
            "  File \"/usr/local/lib/python3.10/dist-packages/requests/api.py\", line 73, in get\n",
            "    return request(\"get\", url, params=params, **kwargs)\n",
            "  File \"/usr/local/lib/python3.10/dist-packages/requests/api.py\", line 59, in request\n",
            "    return session.request(method=method, url=url, **kwargs)\n",
            "  File \"/usr/local/lib/python3.10/dist-packages/requests/sessions.py\", line 589, in request\n",
            "    resp = self.send(prep, **send_kwargs)\n",
            "  File \"/usr/local/lib/python3.10/dist-packages/requests/sessions.py\", line 703, in send\n",
            "    r = adapter.send(request, **kwargs)\n",
            "  File \"/usr/local/lib/python3.10/dist-packages/requests/adapters.py\", line 519, in send\n",
            "    raise ConnectionError(e, request=request)\n",
            "requests.exceptions.ConnectionError: HTTPConnectionPool(host='localhost', port=4040): Max retries exceeded with url: /api/tunnels (Caused by NewConnectionError('<urllib3.connection.HTTPConnection object at 0x780d07716950>: Failed to establish a new connection: [Errno 111] Connection refused'))\n"
          ]
        }
      ]
    },
    {
      "cell_type": "markdown",
      "source": [
        "# **Step 11 Test the API**"
      ],
      "metadata": {
        "id": "Xd0QleygqNGU"
      }
    },
    {
      "cell_type": "code",
      "source": [
        "import requests\n",
        "import json\n",
        "\n",
        "# The URL will be provided by ngrok once the server starts\n",
        "url = \"http://<NGROK_URL>/predict\"  # Replace with the ngrok URL\n",
        "\n",
        "# Define the payload with the user input data\n",
        "payload = {\n",
        "    \"interest\": \"Governance\",\n",
        "    \"city\": \"Portland\",\n",
        "    \"state\": \"Maine\"\n",
        "}\n",
        "\n",
        "# Send a POST request to the API\n",
        "response = requests.post(url, data=json.dumps(payload), headers={\"Content-Type\": \"application/json\"})\n",
        "\n",
        "# Check the response status code\n",
        "if response.status_code == 200:\n",
        "    # Print the JSON response\n",
        "    response_json = response.json()\n",
        "    print(\"Response JSON:\", response_json)\n",
        "\n",
        "    # Retrieve and display the PDF documents\n",
        "    for document_path in response_json['documents']:\n",
        "        download_url = f\"http://<NGROK_URL>/download/{document_path}\"\n",
        "        print(f\"Opening document: {download_url}\")\n",
        "        from IPython.display import display, IFrame\n",
        "        display(IFrame(download_url, width=600, height=300))\n",
        "\n",
        "else:\n",
        "    print(f\"Failed to get a valid response. Status code: {response.status_code}, Response: {response.text}\")"
      ],
      "metadata": {
        "id": "Jjnofs0HqINC"
      },
      "execution_count": null,
      "outputs": []
    },
    {
      "cell_type": "markdown",
      "source": [
        "The API is designed to predict the most advantageous public policy for an individual based on their demographic attributes and interactions. It leverages a machine learning model to categorize the user's interest and recommend relevant policy documents.\n",
        "Components of the API\n",
        "\n",
        "    Initialization:\n",
        "        Flask: The web framework used to create the API.\n",
        "        ngrok: Provides a public URL to your local server, making it accessible over the internet.\n",
        "        joblib: Used to load the pre-trained machine learning model, TF-IDF vectorizer, and one-hot encoder.\n",
        "        pandas: Used to manipulate the data.\n",
        "        scipy.sparse.hstack: Used to combine sparse matrices.\n",
        "\n",
        "    Data Loading:\n",
        "        The API loads the machine learning model, encoders, and the dataset containing the policy documents (orders_df).\n",
        "\n",
        "    Endpoints:\n",
        "        /predict:\n",
        "            Method: POST\n",
        "            Function: Takes user input (interest, city, state), processes the input using the loaded encoders and model, and returns the best matching policy category along with the paths to the relevant policy documents.\n",
        "        /download/<path:filename>:\n",
        "            Method: GET\n",
        "            Function: Provides a mechanism to download the specified policy document."
      ],
      "metadata": {
        "id": "1lUqyw1vrWs2"
      }
    },
    {
      "cell_type": "code",
      "source": [
        "!pip install joblib pandas\n"
      ],
      "metadata": {
        "colab": {
          "base_uri": "https://localhost:8080/"
        },
        "id": "zApetRYgwx9u",
        "outputId": "60d8ecc3-4b5f-4393-d7ab-b503d610e09c"
      },
      "execution_count": null,
      "outputs": [
        {
          "output_type": "stream",
          "name": "stdout",
          "text": [
            "Requirement already satisfied: joblib in /usr/local/lib/python3.10/dist-packages (1.4.2)\n",
            "Requirement already satisfied: pandas in /usr/local/lib/python3.10/dist-packages (2.0.3)\n",
            "Requirement already satisfied: python-dateutil>=2.8.2 in /usr/local/lib/python3.10/dist-packages (from pandas) (2.8.2)\n",
            "Requirement already satisfied: pytz>=2020.1 in /usr/local/lib/python3.10/dist-packages (from pandas) (2023.4)\n",
            "Requirement already satisfied: tzdata>=2022.1 in /usr/local/lib/python3.10/dist-packages (from pandas) (2024.1)\n",
            "Requirement already satisfied: numpy>=1.21.0 in /usr/local/lib/python3.10/dist-packages (from pandas) (1.25.2)\n",
            "Requirement already satisfied: six>=1.5 in /usr/local/lib/python3.10/dist-packages (from python-dateutil>=2.8.2->pandas) (1.16.0)\n"
          ]
        }
      ]
    }
  ],
  "metadata": {
    "colab": {
      "provenance": []
    },
    "kernelspec": {
      "display_name": "Python 3",
      "name": "python3"
    },
    "language_info": {
      "name": "python"
    }
  },
  "nbformat": 4,
  "nbformat_minor": 0
}